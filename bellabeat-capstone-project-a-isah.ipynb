{
 "cells": [
  {
   "cell_type": "code",
   "execution_count": 1,
   "id": "4e3189a4",
   "metadata": {
    "_execution_state": "idle",
    "_uuid": "051d70d956493feee0c6d64651c6a088724dca2a",
    "execution": {
     "iopub.execute_input": "2022-07-05T05:03:06.790974Z",
     "iopub.status.busy": "2022-07-05T05:03:06.789959Z",
     "iopub.status.idle": "2022-07-05T05:03:06.880028Z",
     "shell.execute_reply": "2022-07-05T05:03:06.880701Z"
    },
    "papermill": {
     "duration": 0.229707,
     "end_time": "2022-07-05T05:03:06.881085",
     "exception": true,
     "start_time": "2022-07-05T05:03:06.651378",
     "status": "failed"
    },
    "tags": []
   },
   "outputs": [
    {
     "ename": "NameError",
     "evalue": "name 'library' is not defined",
     "output_type": "error",
     "traceback": [
      "\u001b[0;31m---------------------------------------------------------------------------\u001b[0m",
      "\u001b[0;31mNameError\u001b[0m                                 Traceback (most recent call last)",
      "\u001b[0;32m/tmp/ipykernel_14/3295106805.py\u001b[0m in \u001b[0;36m<module>\u001b[0;34m\u001b[0m\n\u001b[1;32m      3\u001b[0m \u001b[0;31m# For example, here's a helpful package to load\u001b[0m\u001b[0;34m\u001b[0m\u001b[0;34m\u001b[0m\u001b[0;34m\u001b[0m\u001b[0m\n\u001b[1;32m      4\u001b[0m \u001b[0;34m\u001b[0m\u001b[0m\n\u001b[0;32m----> 5\u001b[0;31m \u001b[0mlibrary\u001b[0m\u001b[0;34m(\u001b[0m\u001b[0mtidyverse\u001b[0m\u001b[0;34m)\u001b[0m \u001b[0;31m# metapackage of all tidyverse packages\u001b[0m\u001b[0;34m\u001b[0m\u001b[0;34m\u001b[0m\u001b[0m\n\u001b[0m\u001b[1;32m      6\u001b[0m \u001b[0;34m\u001b[0m\u001b[0m\n\u001b[1;32m      7\u001b[0m \u001b[0;31m# Input data files are available in the read-only \"../input/\" directory\u001b[0m\u001b[0;34m\u001b[0m\u001b[0;34m\u001b[0m\u001b[0;34m\u001b[0m\u001b[0m\n",
      "\u001b[0;31mNameError\u001b[0m: name 'library' is not defined"
     ]
    }
   ],
   "source": [
    "# This R environment comes with many helpful analytics packages installed\n",
    "# It is defined by the kaggle/rstats Docker image: https://github.com/kaggle/docker-rstats\n",
    "# For example, here's a helpful package to load\n",
    "\n",
    "library(tidyverse) # metapackage of all tidyverse packages\n",
    "\n",
    "# Input data files are available in the read-only \"../input/\" directory\n",
    "# For example, running this (by clicking run or pressing Shift+Enter) will list all files under the input directory\n",
    "\n",
    "list.files(path = \"../input\")\n",
    "\n",
    "# You can write up to 20GB to the current directory (/kaggle/working/) that gets preserved as output when you create a version using \"Save & Run All\" \n",
    "# You can also write temporary files to /kaggle/temp/, but they won't be saved outside of the current session"
   ]
  },
  {
   "cell_type": "code",
   "execution_count": null,
   "id": "7ebe38d8",
   "metadata": {
    "papermill": {
     "duration": null,
     "end_time": null,
     "exception": null,
     "start_time": null,
     "status": "pending"
    },
    "tags": []
   },
   "outputs": [],
   "source": []
  },
  {
   "cell_type": "markdown",
   "id": "19d57568",
   "metadata": {
    "papermill": {
     "duration": null,
     "end_time": null,
     "exception": null,
     "start_time": null,
     "status": "pending"
    },
    "tags": []
   },
   "source": [
    "Title: \"Data Analytics Case Study with R : A Isah'Bellabeat Study\"\n",
    "author: Amina A Isah\n",
    "output: html_notebook\n",
    "25th-03-2022\n",
    "\n",
    "## Introduction\n",
    "Welcome to the Bellabeat data analysis case study! In this case study, you will perform many real-world tasks of a junior data analyst. \n",
    "In order to answer the key business questions, \n",
    "you will follow the steps of the data analysis process: ask, prepare, process, analyze, share, and act.\n",
    "\n",
    "## About Bellabeat Company\n",
    " Bellabeat is the go-to wellness brand for women with an ecosystem of products and services. \n",
    " They develop wearables and accompanying products that monitor biometric and lifestyle data to   help women better understand how\n",
    " their bodies work and make healthier choices. It was founded in 2013. Bellabeat has grown rapidly and quickly\n",
    " positioned itself as a tech-driven wellness company.\n",
    "\n",
    "## mission statement\n",
    "Bellabeat empowers women to reconnect with themselves, unleash their inner strengths and be what they were meant to be\n",
    "\n",
    "## Scenario of the Study\n",
    "Bellabeat is a successful small company, but they have the potential to become a larger player in the global smart device market. The insights will then help guide the companys marketing strategy.\n",
    "\n",
    "## Ask Phase\n",
    "Analyze smart device usage data in order to gain insight in how consumers use their smart devices.\n",
    "\n",
    "  1. What are some trends in smart device usage?\n",
    "  2. How could these trends apply to Bellabeat customers?\n",
    "  3. How could these trends help influence Bellabeat marketing strategy?\n",
    "  \n",
    "  ## Key Stakeholders\n",
    "1. Urška Sršen: Bellabeat’s cofounder and Chief Creative Officer\n",
    "2. Sando Mur: Mathematician and Bellabeat’s cofounder; key member of the Bellabeat executive team\n",
    "3.Bellabeat marketing analytics team: A team of data analysts responsible for collecting, analyzing, and\n",
    "  reporting data that helps guide Bellabeat’s marketing strategy. You joined this team six months ago and have\n",
    "  been busy learning about Bellabeat’’s mission and business goals — as well as how you, as a junior data analyst, can     help Bellabeat achieve them \n",
    "  \n",
    "## Bellabeat Product - Leaf\n",
    "Fitbit comes with many features like a touchscreen, Alexa Support, heart rate sensor, and can count calories as well, but Leaf only comes with features like steps counter, tracking of breathing, sleep, and menstrual cycles.\n",
    "The focus of the Analysis is on adding fitbit features to Bellabeat leaf to improve marketing strategy.\n",
    "\n",
    "## Prepare phase\n",
    "This is the phase i import csv files. My data for this analysis is from https://www.kaggle.com/arashnic/fitbit/download\n"
   ]
  },
  {
   "cell_type": "code",
   "execution_count": null,
   "id": "f02e7ed3",
   "metadata": {
    "execution": {
     "iopub.execute_input": "2022-03-23T18:00:16.526708Z",
     "iopub.status.busy": "2022-03-23T18:00:16.49267Z",
     "iopub.status.idle": "2022-03-23T18:02:48.765146Z"
    },
    "papermill": {
     "duration": null,
     "end_time": null,
     "exception": null,
     "start_time": null,
     "status": "pending"
    },
    "tags": []
   },
   "outputs": [],
   "source": [
    "# installing packages\n",
    "install.packages(\"tidyverse\")\n",
    "install.packages(\"lubridate\")\n",
    "install.packages(\"dplyr\")\n",
    "install.packages(\"ggplot2\")\n",
    "install.packages(\"tidyr\")\n",
    "install.packages(\"here\")\n",
    "install.packages(\"skimr\")\n",
    "install.packages(\"janitor\")\n",
    "install.packages(\"colnames\")\n",
    "install.packages(\"magrittr\")\n",
    "\n",
    "# Loading Packages\n",
    "library(tidyverse)\n",
    "library(lubridate)\n",
    "library(dplyr)\n",
    "library(ggplot2)\n",
    "library(tidyr)\n",
    "library(here)\n",
    "library(skimr)\n",
    "library(janitor)\n",
    "library(magrittr)\n"
   ]
  },
  {
   "cell_type": "markdown",
   "id": "32362556",
   "metadata": {
    "papermill": {
     "duration": null,
     "end_time": null,
     "exception": null,
     "start_time": null,
     "status": "pending"
    },
    "tags": []
   },
   "source": [
    "# Download Data\n",
    "# import the data\n",
    "# change table names for easier use"
   ]
  },
  {
   "cell_type": "code",
   "execution_count": null,
   "id": "dac561a6",
   "metadata": {
    "papermill": {
     "duration": null,
     "end_time": null,
     "exception": null,
     "start_time": null,
     "status": "pending"
    },
    "tags": []
   },
   "outputs": [],
   "source": [
    "library(readr)\n",
    "activity <- dailyActivity_merged <- read_csv(\"Fitabase Data 4.12.16-5.12.16/dailyActivity_merged.csv\")\n",
    "\n",
    "library(readr)\n",
    "sleep_day <- sleepDay_merged <- read_csv(\"Fitabase Data 4.12.16-5.12.16/sleepDay_merged.csv\")\n",
    "head(sleep_day)\n",
    "\n",
    "\n",
    "library(readr)\n",
    "intensities <- dailyIntensities_merged <- read_csv(\"Fitabase Data 4.12.16-5.12.16/dailyIntensities_merged.csv\")\n",
    "\n",
    "library(readr)\n",
    "weight <- weightLogInfo_merged <- read_csv(\"Fitabase Data 4.12.16-5.12.16/weightLogInfo_merged.csv\")\n",
    "\n",
    "library(readr)\n",
    "Steps < dailySteps_merged <- read_csv(\"Fitabase Data 4.12.16-5.12.16/dailySteps_merged.csv\")\n",
    "View(Steps)"
   ]
  },
  {
   "cell_type": "markdown",
   "id": "6f1984cd",
   "metadata": {
    "papermill": {
     "duration": null,
     "end_time": null,
     "exception": null,
     "start_time": null,
     "status": "pending"
    },
    "tags": []
   },
   "source": [
    "\n",
    "# View the data"
   ]
  },
  {
   "cell_type": "code",
   "execution_count": null,
   "id": "c6d1c143",
   "metadata": {
    "papermill": {
     "duration": null,
     "end_time": null,
     "exception": null,
     "start_time": null,
     "status": "pending"
    },
    "tags": []
   },
   "outputs": [],
   "source": [
    "View(activity)\n",
    "View(sleep_day)\n",
    "View(intensities)\n",
    "View(weight)\n",
    "View(Steps)\n",
    "\n",
    "head(activity)\n",
    "head(sleep_day)\n",
    "head(intensities)\n",
    "head(weight)\n"
   ]
  },
  {
   "cell_type": "code",
   "execution_count": null,
   "id": "a22e5de3",
   "metadata": {
    "papermill": {
     "duration": null,
     "end_time": null,
     "exception": null,
     "start_time": null,
     "status": "pending"
    },
    "tags": []
   },
   "outputs": [],
   "source": [
    "# Information about the dataset\n",
    "These datasets were generated by respondents to a distributed survey via Amazon Mechanical Turk between 03.12.2016-05.12.2016. Thirty eligible Fitbit users consented to the submission of personal tracker data, including minute-level output for physical activity, heart rate, and sleep monitoring.\n",
    "\n",
    "# Data Credibility and Integrity\n",
    "Data size was a sample of 30 respondents, which i think dosnt represent the whole population size which is a limitation. Another limitation is the fact that the data is obsolete, since the data was collected in 2016, it cannot show the true picture of respondents users now.\n",
    "\n",
    "# Accessibility and privacy of data\n",
    "Verifying the metadata of our dataset we can confirm it is open-source. The owner has dedicated the work to the public domain by waiving all of his or her rights to the work worldwide under copyright law, including all related and neighboring rights, to the extent allowed by law. You can copy, modify, distribute and perform the work, even for commercial purposes, all without asking permission.\n"
   ]
  },
  {
   "cell_type": "markdown",
   "id": "eed2c78c",
   "metadata": {
    "papermill": {
     "duration": null,
     "end_time": null,
     "exception": null,
     "start_time": null,
     "status": "pending"
    },
    "tags": []
   },
   "source": [
    "## Process Phase"
   ]
  },
  {
   "cell_type": "code",
   "execution_count": null,
   "id": "db14e3e6",
   "metadata": {
    "papermill": {
     "duration": null,
     "end_time": null,
     "exception": null,
     "start_time": null,
     "status": "pending"
    },
    "tags": []
   },
   "outputs": [],
   "source": [
    "I am using R for my analysis due to the accessibility, amount of data, ability to create data visualization and to share my results with stakeholders and team members.\n",
    "# Checking for Duplicates"
   ]
  },
  {
   "cell_type": "code",
   "execution_count": null,
   "id": "420d98a3",
   "metadata": {
    "papermill": {
     "duration": null,
     "end_time": null,
     "exception": null,
     "start_time": null,
     "status": "pending"
    },
    "tags": []
   },
   "outputs": [],
   "source": [
    "sum(duplicated(activity))\n",
    "sum(duplicated(sleep_day))\n",
    "sum(duplicated(intensities))\n",
    "sum(duplicated(weight))"
   ]
  },
  {
   "cell_type": "markdown",
   "id": "f257b230",
   "metadata": {
    "papermill": {
     "duration": null,
     "end_time": null,
     "exception": null,
     "start_time": null,
     "status": "pending"
    },
    "tags": []
   },
   "source": [
    "## Removing Duplicates"
   ]
  },
  {
   "cell_type": "code",
   "execution_count": null,
   "id": "3e576b39",
   "metadata": {
    "papermill": {
     "duration": null,
     "end_time": null,
     "exception": null,
     "start_time": null,
     "status": "pending"
    },
    "tags": []
   },
   "outputs": [],
   "source": [
    "daily_sleep <- sleep_day %>%\n",
    "  distinct() %>%\n",
    "  drop_na()\n",
    "head(daily_sleep)\n"
   ]
  },
  {
   "cell_type": "markdown",
   "id": "8358b361",
   "metadata": {
    "papermill": {
     "duration": null,
     "end_time": null,
     "exception": null,
     "start_time": null,
     "status": "pending"
    },
    "tags": []
   },
   "source": [
    "## Duplicates Removed"
   ]
  },
  {
   "cell_type": "code",
   "execution_count": null,
   "id": "2b80a03c",
   "metadata": {
    "papermill": {
     "duration": null,
     "end_time": null,
     "exception": null,
     "start_time": null,
     "status": "pending"
    },
    "tags": []
   },
   "outputs": [],
   "source": [
    "sum(duplicated(activity))\n",
    "sum(duplicated(daily_sleep))\n",
    "sum(duplicated(intensities))\n",
    "sum(duplicated(weight))"
   ]
  },
  {
   "cell_type": "markdown",
   "id": "b2972c44",
   "metadata": {
    "papermill": {
     "duration": null,
     "end_time": null,
     "exception": null,
     "start_time": null,
     "status": "pending"
    },
    "tags": []
   },
   "source": [
    "# Exploring and Summaring Data"
   ]
  },
  {
   "cell_type": "code",
   "execution_count": null,
   "id": "1f7e1099",
   "metadata": {
    "papermill": {
     "duration": null,
     "end_time": null,
     "exception": null,
     "start_time": null,
     "status": "pending"
    },
    "tags": []
   },
   "outputs": [],
   "source": [
    "n_distinct(activity$Id)\n",
    "n_distinct(daily_sleep$Id)\n",
    "n_distinct(intensities$Id)\n",
    "n_distinct(weight$Id)"
   ]
  },
  {
   "cell_type": "markdown",
   "id": "5ceb4e00",
   "metadata": {
    "papermill": {
     "duration": null,
     "end_time": null,
     "exception": null,
     "start_time": null,
     "status": "pending"
    },
    "tags": []
   },
   "source": [
    "# There is 33 participants in the activity, 24 in daily_sleep,intensities has 33 paricipants too, and weight has 8 participants.8 participants are not sufficient for analysis.\n"
   ]
  },
  {
   "cell_type": "markdown",
   "id": "c5cd8262",
   "metadata": {
    "papermill": {
     "duration": null,
     "end_time": null,
     "exception": null,
     "start_time": null,
     "status": "pending"
    },
    "tags": []
   },
   "source": []
  },
  {
   "cell_type": "markdown",
   "id": "f44673f8",
   "metadata": {
    "papermill": {
     "duration": null,
     "end_time": null,
     "exception": null,
     "start_time": null,
     "status": "pending"
    },
    "tags": []
   },
   "source": [
    "## summary statistics of the data sets:\n",
    "# activity"
   ]
  },
  {
   "cell_type": "code",
   "execution_count": null,
   "id": "9d43953a",
   "metadata": {
    "papermill": {
     "duration": null,
     "end_time": null,
     "exception": null,
     "start_time": null,
     "status": "pending"
    },
    "tags": []
   },
   "outputs": [],
   "source": [
    "activity %>%  \n",
    "  select(TotalSteps,\n",
    "         TotalDistance,\n",
    "         SedentaryMinutes, Calories) %>%\n",
    "  summary()\n"
   ]
  },
  {
   "cell_type": "markdown",
   "id": "d1c8bb3f",
   "metadata": {
    "papermill": {
     "duration": null,
     "end_time": null,
     "exception": null,
     "start_time": null,
     "status": "pending"
    },
    "tags": []
   },
   "source": [
    "# explore num of active minutes per category\n",
    "## activity"
   ]
  },
  {
   "cell_type": "code",
   "execution_count": null,
   "id": "f3cc7740",
   "metadata": {
    "papermill": {
     "duration": null,
     "end_time": null,
     "exception": null,
     "start_time": null,
     "status": "pending"
    },
    "tags": []
   },
   "outputs": [],
   "source": [
    "activity %>%\n",
    "  select(activity)\n",
    "summary()"
   ]
  },
  {
   "cell_type": "markdown",
   "id": "74706149",
   "metadata": {
    "papermill": {
     "duration": null,
     "end_time": null,
     "exception": null,
     "start_time": null,
     "status": "pending"
    },
    "tags": []
   },
   "source": []
  },
  {
   "cell_type": "markdown",
   "id": "f2d4c8a3",
   "metadata": {
    "papermill": {
     "duration": null,
     "end_time": null,
     "exception": null,
     "start_time": null,
     "status": "pending"
    },
    "tags": []
   },
   "source": [
    "# daily_sleep"
   ]
  },
  {
   "cell_type": "code",
   "execution_count": null,
   "id": "db6bb4e9",
   "metadata": {
    "papermill": {
     "duration": null,
     "end_time": null,
     "exception": null,
     "start_time": null,
     "status": "pending"
    },
    "tags": []
   },
   "outputs": [],
   "source": [
    "daily_sleep %>%\n",
    "  select(daily_sleep)\n",
    "summary(daily_sleep)\n"
   ]
  },
  {
   "cell_type": "markdown",
   "id": "029c3948",
   "metadata": {
    "papermill": {
     "duration": null,
     "end_time": null,
     "exception": null,
     "start_time": null,
     "status": "pending"
    },
    "tags": []
   },
   "source": [
    "# intensities"
   ]
  },
  {
   "cell_type": "code",
   "execution_count": null,
   "id": "f8bec425",
   "metadata": {
    "papermill": {
     "duration": null,
     "end_time": null,
     "exception": null,
     "start_time": null,
     "status": "pending"
    },
    "tags": []
   },
   "outputs": [],
   "source": [
    "intensities %>%\n",
    "  select(intensities)\n",
    "summary(intensities)"
   ]
  },
  {
   "cell_type": "markdown",
   "id": "d5181b44",
   "metadata": {
    "papermill": {
     "duration": null,
     "end_time": null,
     "exception": null,
     "start_time": null,
     "status": "pending"
    },
    "tags": []
   },
   "source": [
    "# steps"
   ]
  },
  {
   "cell_type": "code",
   "execution_count": null,
   "id": "b7227e03",
   "metadata": {
    "papermill": {
     "duration": null,
     "end_time": null,
     "exception": null,
     "start_time": null,
     "status": "pending"
    },
    "tags": []
   },
   "outputs": [],
   "source": [
    "steps %>%\n",
    "  select(steps)\n",
    "summary(steps)"
   ]
  },
  {
   "cell_type": "markdown",
   "id": "3b57b61d",
   "metadata": {
    "papermill": {
     "duration": null,
     "end_time": null,
     "exception": null,
     "start_time": null,
     "status": "pending"
    },
    "tags": []
   },
   "source": [
    "# weight"
   ]
  },
  {
   "cell_type": "code",
   "execution_count": null,
   "id": "5d79e298",
   "metadata": {
    "papermill": {
     "duration": null,
     "end_time": null,
     "exception": null,
     "start_time": null,
     "status": "pending"
    },
    "tags": []
   },
   "outputs": [],
   "source": [
    "weight %>%\n",
    "  select(weight)\n",
    "summary(weight)"
   ]
  },
  {
   "cell_type": "markdown",
   "id": "d315213f",
   "metadata": {
    "papermill": {
     "duration": null,
     "end_time": null,
     "exception": null,
     "start_time": null,
     "status": "pending"
    },
    "tags": []
   },
   "source": [
    "## findings for Data Summary\n",
    "1. Participants are mostly lightly active\n",
    "2. Sedentary time on average is 991, which needs to be reduced.\n",
    "3. The average step is 7638, which is not enough, because the goal of 10,000 steps \n",
    "   is the recommended daily step target for healthy adults to achieve health benefits.\n",
    "\n",
    "## Merging Data\n",
    "Before visualising the data, we need to merge the activity and sleep Datasets on id and dates column.\n"
   ]
  },
  {
   "cell_type": "markdown",
   "id": "336c2897",
   "metadata": {
    "papermill": {
     "duration": null,
     "end_time": null,
     "exception": null,
     "start_time": null,
     "status": "pending"
    },
    "tags": []
   },
   "source": [
    "## clean column names to lower cases for proper syntax "
   ]
  },
  {
   "cell_type": "code",
   "execution_count": null,
   "id": "748656fa",
   "metadata": {
    "papermill": {
     "duration": null,
     "end_time": null,
     "exception": null,
     "start_time": null,
     "status": "pending"
    },
    "tags": []
   },
   "outputs": [],
   "source": [
    "clean_names(activity)\n",
    "activity<- rename_with(activity, tolower)\n",
    "\n",
    "clean_names(daily_sleep)\n",
    "daily_sleep <- rename_with(daily_sleep, tolower)\n",
    "\n",
    "clean_names(hourly_steps)\n",
    "hourly_steps <- rename_with(hourly_steps, tolower)\n"
   ]
  },
  {
   "cell_type": "markdown",
   "id": "b6348066",
   "metadata": {
    "papermill": {
     "duration": null,
     "end_time": null,
     "exception": null,
     "start_time": null,
     "status": "pending"
    },
    "tags": []
   },
   "source": [
    "## tracing errors"
   ]
  },
  {
   "cell_type": "code",
   "execution_count": null,
   "id": "5f335e52",
   "metadata": {
    "papermill": {
     "duration": null,
     "end_time": null,
     "exception": null,
     "start_time": null,
     "status": "pending"
    },
    "tags": []
   },
   "outputs": [],
   "source": [
    "rlang::last_error()\n",
    "rlang::last_trace()"
   ]
  },
  {
   "cell_type": "code",
   "execution_count": null,
   "id": "27dfd356",
   "metadata": {
    "papermill": {
     "duration": null,
     "end_time": null,
     "exception": null,
     "start_time": null,
     "status": "pending"
    },
    "tags": []
   },
   "outputs": [],
   "source": [
    "## rename and mutate id and dates column"
   ]
  },
  {
   "cell_type": "code",
   "execution_count": null,
   "id": "95707971",
   "metadata": {
    "papermill": {
     "duration": null,
     "end_time": null,
     "exception": null,
     "start_time": null,
     "status": "pending"
    },
    "tags": []
   },
   "outputs": [],
   "source": [
    "head(activity)\n",
    "head(daily_sleep)\n",
    "\n",
    "daily_activity <- activity %>%\n",
    "  rename(date = activitydate) %>%\n",
    "  mutate(date = as_date(date, format = \"%m/%d/%Y\"))\n",
    "\n",
    "daily_sleep_merge <- daily_sleep %>%\n",
    "  rename(date = sleepday) %>%\n",
    "  mutate(date = as_date(date, format = \"%m/%d/%Y %I:%M:%S %p\" , tz=Sys.timezone()))\n",
    "\n",
    "head(daily_activity)\n",
    "head(daily_sleep_merge)\n",
    "\n",
    "daily_activity_sleep <- merge(daily_activity, daily_sleep_merge, by=c (\"id\", \"date\"))\n",
    "head(daily_activity_sleep)\n",
    "View(daily_activity_sleep)\n"
   ]
  },
  {
   "cell_type": "markdown",
   "id": "edf1eee4",
   "metadata": {
    "papermill": {
     "duration": null,
     "end_time": null,
     "exception": null,
     "start_time": null,
     "status": "pending"
    },
    "tags": []
   },
   "source": [
    "# Analyse and Share Phase\n",
    "  We will analyze trend of fitbit users and see if it can help us on Bellabeat market strategy\n",
    "## using daily_activity and daily_sleep datasets:merged- daily_activity_sleep\n"
   ]
  },
  {
   "cell_type": "code",
   "execution_count": null,
   "id": "6eb32300",
   "metadata": {
    "papermill": {
     "duration": null,
     "end_time": null,
     "exception": null,
     "start_time": null,
     "status": "pending"
    },
    "tags": []
   },
   "outputs": [],
   "source": [
    "ggplot(data=activity, aes(x=totalsteps, y=calories))+ \n",
    "  geom_point() + geom_smooth()+\n",
    "  labs(title=\"Total Steps vs. Calories\")\n"
   ]
  },
  {
   "cell_type": "markdown",
   "id": "19ade26f",
   "metadata": {
    "papermill": {
     "duration": null,
     "end_time": null,
     "exception": null,
     "start_time": null,
     "status": "pending"
    },
    "tags": []
   },
   "source": [
    "There is positive relationship between Total Steps and Calories,\n",
    "the more steps you move, the more calories you burn.\n"
   ]
  },
  {
   "cell_type": "code",
   "execution_count": null,
   "id": "7fe49ea3",
   "metadata": {
    "papermill": {
     "duration": null,
     "end_time": null,
     "exception": null,
     "start_time": null,
     "status": "pending"
    },
    "tags": []
   },
   "outputs": [],
   "source": [
    "ggplot(data=sleep_day, aes(x=TotalMinutesAsleep, y=TotalTimeInBed))+ \n",
    "  geom_point()+ \n",
    "  labs(title=\"Total Minutes Asleep vs. Total Time in Bed\")\n"
   ]
  },
  {
   "cell_type": "markdown",
   "id": "da50a2b6",
   "metadata": {
    "papermill": {
     "duration": null,
     "end_time": null,
     "exception": null,
     "start_time": null,
     "status": "pending"
    },
    "tags": []
   },
   "source": [
    "\n",
    "The relationship between Total Minutes Asleep and Total Time in Bed looks linear.\n",
    "So if the Bellabeat users want to improve their sleep,\n",
    "we should consider using notification to go to sleep.\n"
   ]
  },
  {
   "cell_type": "code",
   "execution_count": null,
   "id": "2ec95145",
   "metadata": {
    "papermill": {
     "duration": null,
     "end_time": null,
     "exception": null,
     "start_time": null,
     "status": "pending"
    },
    "tags": []
   },
   "outputs": [],
   "source": [
    "ggplot(data=intensities, aes(x=SedentaryMinutes, y=VeryActiveMinutes))+\n",
    "  geom_histogram(stat = \"identity\", fill='darkblue')+\n",
    "  theme(axis.text.x = element_text(angle = 90))+\n",
    "  labs(title=\"SedentaryMinutes vs. VeryActive\")\n",
    "\n",
    "\n",
    "ggplot(data=intensities, aes(x=SedentaryMinutes, y=VeryActiveMinutes))+\n",
    "  geom_histogram(stat = \"identity\", fill='darkblue')+\n",
    "  theme(axis.text.x = element_text(angle = 90))+\n",
    "  labs(title=\"SedentaryMinutes vs. VeryActive\")\n"
   ]
  },
  {
   "cell_type": "markdown",
   "id": "dc22d763",
   "metadata": {
    "papermill": {
     "duration": null,
     "end_time": null,
     "exception": null,
     "start_time": null,
     "status": "pending"
    },
    "tags": []
   },
   "source": [
    "# Plot relationship between daily steps and calories burned"
   ]
  },
  {
   "cell_type": "code",
   "execution_count": null,
   "id": "991c0821",
   "metadata": {
    "papermill": {
     "duration": null,
     "end_time": null,
     "exception": null,
     "start_time": null,
     "status": "pending"
    },
    "tags": []
   },
   "outputs": [],
   "source": [
    "ggplot(data=activity, aes(x=totalsteps, y=calories))+ \n",
    "  geom_point()+ geom_smooth(method = 'loess', formula = y ~ x)+ \n",
    "  labs(title=\"Daily Steps vs. Calories Burned\", x=\"Total Steps\", y=\"Calories Burned\")"
   ]
  },
  {
   "cell_type": "markdown",
   "id": "66abf475",
   "metadata": {
    "papermill": {
     "duration": null,
     "end_time": null,
     "exception": null,
     "start_time": null,
     "status": "pending"
    },
    "tags": []
   },
   "source": [
    "There is correltaion between Daily steps snd Calories Burned.\n",
    "The more steps, the more calories are burned."
   ]
  },
  {
   "cell_type": "code",
   "execution_count": null,
   "id": "8c5bef0e",
   "metadata": {
    "papermill": {
     "duration": null,
     "end_time": null,
     "exception": null,
     "start_time": null,
     "status": "pending"
    },
    "tags": []
   },
   "outputs": [],
   "source": [
    "ggplot(data=daily_activity_sleep, aes(x=totalminutesasleep, y=sedentaryminutes))+ \n",
    "  geom_point(color='darkblue') + geom_smooth()+\n",
    "  labs(title=\"Minutes Asleep vs. Sedentary Minutes\")\n"
   ]
  },
  {
   "cell_type": "markdown",
   "id": "9fa42e4e",
   "metadata": {
    "papermill": {
     "duration": null,
     "end_time": null,
     "exception": null,
     "start_time": null,
     "status": "pending"
    },
    "tags": []
   },
   "source": [
    "\n",
    "We see the negative relationship between Sedentary Minutes and Sleep time."
   ]
  },
  {
   "cell_type": "code",
   "execution_count": null,
   "id": "4c314884",
   "metadata": {
    "papermill": {
     "duration": null,
     "end_time": null,
     "exception": null,
     "start_time": null,
     "status": "pending"
    },
    "tags": []
   },
   "outputs": [],
   "source": [
    "ggplot(aes(x=\"\",y=total_percent, fill=sleeper_type))+\n",
    "  geom_bar(stat = \"identity\", width = 1)+\n",
    "  coord_polar(\"y\", start=0)+\n",
    "  theme_minimal()+\n",
    "  theme(axis.title.x= element_blank(),\n",
    "        axis.title.y = element_blank(),\n",
    "        panel.border = element_blank(), \n",
    "        panel.grid = element_blank(), \n",
    "        axis.ticks = element_blank(),\n",
    "        axis.text.x = element_blank(),\n",
    "        plot.title = element_text(hjust = 0.5, size=14, face = \"bold\"))+\n",
    "  scale_fill_manual(values = c(\"#0075ab\",\"#aa6fc5\",\"#ff6583\",\"#ffa600\"),\n",
    "                    labels = c(\"Good Sleeper\", \"Normal Sleeper\", \"Bad Sleeper\", \"Unhealthy Sleeper\"))+\n",
    "  geom_text(aes(label = total_percent), color=\"white\",\n",
    "            position = position_stack(vjust = 0.5))+\n",
    "  labs(title=\"Sleeper type distribution\")\n"
   ]
  },
  {
   "cell_type": "markdown",
   "id": "1dcc53d9",
   "metadata": {
    "papermill": {
     "duration": null,
     "end_time": null,
     "exception": null,
     "start_time": null,
     "status": "pending"
    },
    "tags": []
   },
   "source": [
    "## Summary and Recommendation\n",
    "As we have seen Bellabeat is a company that develop wearables and accompanying products that monitor biometric\n",
    "and lifestyle data to help women better understand how their bodies work and make healthier choices.\n",
    "They focus on the health and reproduction of women using products like leaf, wrist watch. Bellabeat uses activity, sleep, \n",
    "reproduction, of women to help have information on their body.\n",
    "\n",
    "Analysing Fitbit Data to improve Bellabeat marketing strategy.\n",
    "\n",
    "If Bellabeat users want to improve their sleep,\n",
    "Bellabeat application can recommend moderating sedentary time.\n",
    "\n",
    "\n",
    "## After analyzing FitBit Fitness Tracker Data,\n",
    "Here are the recommendation that would help Bellabeat marketing strategy.\n",
    "\n",
    "Target audience:\n",
    "\n",
    "Women who work full-time jobs, women who work remotely(hourly_intensity data)\n",
    "and spend a lot of time at the computer(sedentary_time data).\n",
    "\n",
    "These women do only light activity to stay healthy (activity_datasets).\n",
    "Even though they need to improve their daily_activity to improve their health.\n",
    "They migyht need more information about how to improve their daily_activity, and how to track it.\n",
    "\n",
    "1. Bellabeat might improve their application so that users can open the application\n",
    " and choose the exercise they want to do, and instruction on how to do them.\n",
    "2. The body of the Bellabeat Leaf comes in steel as well as in wooden finish,\n",
    " it depends on which one you choose, they can customise it in different colours to go with colour fashion.\n",
    "3. Getting quality sleep impacts you in more than one way. \n",
    " Tracking how you slept and how your body recovered during your sleep cycle with notifications on the application.\n",
    "4. Making the application to be in a competitive manner, Your score is going to help guide you to make smarter,\n",
    "  Your score is going to help guide you to make smarter, healthier decisions that work with your body and mind.\n",
    "  You’ll know when to push harder or take a day to rest, or uncover if you’re susceptible to sickness.\n",
    "5. Most activity happens between 5 pm and 7 pm -(intensities_datasets) I suppose, that people go to a gym or for a walk after finishing work.\n",
    "  Bellabeat can use this time to remind and motivate users to go for a run or walk.\n",
    "  \n",
    "## We need to support this findings with more data, because correlation between some data doesn’t mean causation.\n",
    "  \n",
    "  \n",
    "Thank you very much for going through my study.\n",
    "This is my first project using R. I would appreciate any comments and recommendations for improvement.\n",
    "\n",
    "source - https://fitnessgreed.com/bellabeat-vs-fitbit/\n",
    "\n"
   ]
  },
  {
   "cell_type": "markdown",
   "id": "3bc296e1",
   "metadata": {
    "papermill": {
     "duration": null,
     "end_time": null,
     "exception": null,
     "start_time": null,
     "status": "pending"
    },
    "tags": []
   },
   "source": [
    "https://www.kaggle.com/arashnic/fitbit/download"
   ]
  },
  {
   "cell_type": "markdown",
   "id": "dae4ff92",
   "metadata": {
    "papermill": {
     "duration": null,
     "end_time": null,
     "exception": null,
     "start_time": null,
     "status": "pending"
    },
    "tags": []
   },
   "source": []
  }
 ],
 "metadata": {
  "kernelspec": {
   "display_name": "Python 3",
   "language": "python",
   "name": "python3"
  },
  "language_info": {
   "codemirror_mode": {
    "name": "ipython",
    "version": 3
   },
   "file_extension": ".py",
   "mimetype": "text/x-python",
   "name": "python",
   "nbconvert_exporter": "python",
   "pygments_lexer": "ipython3",
   "version": "3.8.10"
  },
  "papermill": {
   "default_parameters": {},
   "duration": 2.815934,
   "end_time": "2022-07-05T05:03:07.228305",
   "environment_variables": {},
   "exception": true,
   "input_path": "__notebook__.ipynb",
   "output_path": "__notebook__.ipynb",
   "parameters": {},
   "start_time": "2022-07-05T05:03:04.412371",
   "version": "2.3.3"
  }
 },
 "nbformat": 4,
 "nbformat_minor": 5
}
